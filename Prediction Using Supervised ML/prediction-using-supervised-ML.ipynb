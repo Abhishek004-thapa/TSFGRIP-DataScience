{
 "cells": [
  {
   "cell_type": "markdown",
   "id": "78a1cc76",
   "metadata": {},
   "source": [
    "# BY ABHISHEK THAPA \n",
    "\n",
    "## @Data Science Intern- TSFGRIP-NOVEMBER2022\n",
    "\n",
    "## `TASK-02:` Prediction using Supervised ML\n",
    "### `Level-` Beginner\n",
    "### `Dataset:`  http://bit.ly/w-data\n",
    "\n",
    "### `github:` https://github.com/Abhishek004-thapa\n",
    "### `linkedin:` https://www.linkedin.com/in/abhishek-thapa-b9a733199/"
   ]
  },
  {
   "cell_type": "markdown",
   "id": "5bc5eabc",
   "metadata": {},
   "source": [
    "# `STEP-1:` Importing required important libraries"
   ]
  },
  {
   "cell_type": "code",
   "execution_count": 1,
   "id": "911f053c",
   "metadata": {},
   "outputs": [],
   "source": [
    "import numpy as np\n",
    "import pandas as pd\n",
    "import matplotlib.pyplot as plt"
   ]
  },
  {
   "cell_type": "markdown",
   "id": "8783cf17",
   "metadata": {},
   "source": [
    "# `STEP-2:` Loading Dataset"
   ]
  },
  {
   "cell_type": "code",
   "execution_count": 2,
   "id": "ff092800",
   "metadata": {},
   "outputs": [
    {
     "data": {
      "text/html": [
       "<div>\n",
       "<style scoped>\n",
       "    .dataframe tbody tr th:only-of-type {\n",
       "        vertical-align: middle;\n",
       "    }\n",
       "\n",
       "    .dataframe tbody tr th {\n",
       "        vertical-align: top;\n",
       "    }\n",
       "\n",
       "    .dataframe thead th {\n",
       "        text-align: right;\n",
       "    }\n",
       "</style>\n",
       "<table border=\"1\" class=\"dataframe\">\n",
       "  <thead>\n",
       "    <tr style=\"text-align: right;\">\n",
       "      <th></th>\n",
       "      <th>Hours</th>\n",
       "      <th>Scores</th>\n",
       "    </tr>\n",
       "  </thead>\n",
       "  <tbody>\n",
       "    <tr>\n",
       "      <th>0</th>\n",
       "      <td>2.5</td>\n",
       "      <td>21</td>\n",
       "    </tr>\n",
       "    <tr>\n",
       "      <th>1</th>\n",
       "      <td>5.1</td>\n",
       "      <td>47</td>\n",
       "    </tr>\n",
       "    <tr>\n",
       "      <th>2</th>\n",
       "      <td>3.2</td>\n",
       "      <td>27</td>\n",
       "    </tr>\n",
       "    <tr>\n",
       "      <th>3</th>\n",
       "      <td>8.5</td>\n",
       "      <td>75</td>\n",
       "    </tr>\n",
       "    <tr>\n",
       "      <th>4</th>\n",
       "      <td>3.5</td>\n",
       "      <td>30</td>\n",
       "    </tr>\n",
       "  </tbody>\n",
       "</table>\n",
       "</div>"
      ],
      "text/plain": [
       "   Hours  Scores\n",
       "0    2.5      21\n",
       "1    5.1      47\n",
       "2    3.2      27\n",
       "3    8.5      75\n",
       "4    3.5      30"
      ]
     },
     "execution_count": 2,
     "metadata": {},
     "output_type": "execute_result"
    }
   ],
   "source": [
    "data_url = \"https://raw.githubusercontent.com/AdiPersonalWorks/Random/master/student_scores%20-%20student_scores.csv\"\n",
    "df = pd.read_csv(data_url)\n",
    "df.head()"
   ]
  },
  {
   "cell_type": "markdown",
   "id": "47332c00",
   "metadata": {},
   "source": [
    "# `STEP-3:` Exploratory Data Analysis and Visualization.\n",
    "\n",
    "## `Exploring and Analysing Data:`\n",
    "\n",
    "Let's see the shape, info and statistical distribution of our loaded datasets..."
   ]
  },
  {
   "cell_type": "code",
   "execution_count": 3,
   "id": "b97ed6b2",
   "metadata": {},
   "outputs": [
    {
     "data": {
      "text/plain": [
       "(25, 2)"
      ]
     },
     "execution_count": 3,
     "metadata": {},
     "output_type": "execute_result"
    }
   ],
   "source": [
    "df.shape"
   ]
  },
  {
   "cell_type": "code",
   "execution_count": 4,
   "id": "ad4d21de",
   "metadata": {},
   "outputs": [
    {
     "name": "stdout",
     "output_type": "stream",
     "text": [
      "<class 'pandas.core.frame.DataFrame'>\n",
      "RangeIndex: 25 entries, 0 to 24\n",
      "Data columns (total 2 columns):\n",
      " #   Column  Non-Null Count  Dtype  \n",
      "---  ------  --------------  -----  \n",
      " 0   Hours   25 non-null     float64\n",
      " 1   Scores  25 non-null     int64  \n",
      "dtypes: float64(1), int64(1)\n",
      "memory usage: 528.0 bytes\n"
     ]
    }
   ],
   "source": [
    "df.info()"
   ]
  },
  {
   "cell_type": "code",
   "execution_count": 5,
   "id": "e31efdab",
   "metadata": {},
   "outputs": [
    {
     "data": {
      "text/html": [
       "<div>\n",
       "<style scoped>\n",
       "    .dataframe tbody tr th:only-of-type {\n",
       "        vertical-align: middle;\n",
       "    }\n",
       "\n",
       "    .dataframe tbody tr th {\n",
       "        vertical-align: top;\n",
       "    }\n",
       "\n",
       "    .dataframe thead th {\n",
       "        text-align: right;\n",
       "    }\n",
       "</style>\n",
       "<table border=\"1\" class=\"dataframe\">\n",
       "  <thead>\n",
       "    <tr style=\"text-align: right;\">\n",
       "      <th></th>\n",
       "      <th>Hours</th>\n",
       "      <th>Scores</th>\n",
       "    </tr>\n",
       "  </thead>\n",
       "  <tbody>\n",
       "    <tr>\n",
       "      <th>count</th>\n",
       "      <td>25.000000</td>\n",
       "      <td>25.000000</td>\n",
       "    </tr>\n",
       "    <tr>\n",
       "      <th>mean</th>\n",
       "      <td>5.012000</td>\n",
       "      <td>51.480000</td>\n",
       "    </tr>\n",
       "    <tr>\n",
       "      <th>std</th>\n",
       "      <td>2.525094</td>\n",
       "      <td>25.286887</td>\n",
       "    </tr>\n",
       "    <tr>\n",
       "      <th>min</th>\n",
       "      <td>1.100000</td>\n",
       "      <td>17.000000</td>\n",
       "    </tr>\n",
       "    <tr>\n",
       "      <th>25%</th>\n",
       "      <td>2.700000</td>\n",
       "      <td>30.000000</td>\n",
       "    </tr>\n",
       "    <tr>\n",
       "      <th>50%</th>\n",
       "      <td>4.800000</td>\n",
       "      <td>47.000000</td>\n",
       "    </tr>\n",
       "    <tr>\n",
       "      <th>75%</th>\n",
       "      <td>7.400000</td>\n",
       "      <td>75.000000</td>\n",
       "    </tr>\n",
       "    <tr>\n",
       "      <th>max</th>\n",
       "      <td>9.200000</td>\n",
       "      <td>95.000000</td>\n",
       "    </tr>\n",
       "  </tbody>\n",
       "</table>\n",
       "</div>"
      ],
      "text/plain": [
       "           Hours     Scores\n",
       "count  25.000000  25.000000\n",
       "mean    5.012000  51.480000\n",
       "std     2.525094  25.286887\n",
       "min     1.100000  17.000000\n",
       "25%     2.700000  30.000000\n",
       "50%     4.800000  47.000000\n",
       "75%     7.400000  75.000000\n",
       "max     9.200000  95.000000"
      ]
     },
     "execution_count": 5,
     "metadata": {},
     "output_type": "execute_result"
    }
   ],
   "source": [
    "df.describe()"
   ]
  },
  {
   "cell_type": "markdown",
   "id": "607b03ac",
   "metadata": {},
   "source": [
    "Let's check for missing and duplicated values/tuples in our datasets."
   ]
  },
  {
   "cell_type": "code",
   "execution_count": 6,
   "id": "d9935df3",
   "metadata": {},
   "outputs": [
    {
     "data": {
      "text/plain": [
       "Hours     0\n",
       "Scores    0\n",
       "dtype: int64"
      ]
     },
     "execution_count": 6,
     "metadata": {},
     "output_type": "execute_result"
    }
   ],
   "source": [
    "df.isna().sum()"
   ]
  },
  {
   "cell_type": "code",
   "execution_count": 7,
   "id": "a98e6d6c",
   "metadata": {},
   "outputs": [
    {
     "data": {
      "text/plain": [
       "Hours     23\n",
       "Scores    23\n",
       "dtype: int64"
      ]
     },
     "execution_count": 7,
     "metadata": {},
     "output_type": "execute_result"
    }
   ],
   "source": [
    "df.nunique()"
   ]
  },
  {
   "cell_type": "code",
   "execution_count": 8,
   "id": "56795053",
   "metadata": {},
   "outputs": [
    {
     "data": {
      "text/plain": [
       "0"
      ]
     },
     "execution_count": 8,
     "metadata": {},
     "output_type": "execute_result"
    }
   ],
   "source": [
    "df.duplicated().sum()"
   ]
  },
  {
   "cell_type": "code",
   "execution_count": 9,
   "id": "30ba4b85",
   "metadata": {},
   "outputs": [
    {
     "data": {
      "text/plain": [
       "Hours     float64\n",
       "Scores      int64\n",
       "dtype: object"
      ]
     },
     "execution_count": 9,
     "metadata": {},
     "output_type": "execute_result"
    }
   ],
   "source": [
    "df.dtypes"
   ]
  },
  {
   "cell_type": "markdown",
   "id": "a4004ae8",
   "metadata": {},
   "source": [
    "All features are of numeric type, so no need of encoding of features for this  dataset."
   ]
  },
  {
   "cell_type": "markdown",
   "id": "685610cf",
   "metadata": {},
   "source": [
    "## `Visualization:`\n",
    "\n",
    "###  `Scatter Plot`"
   ]
  },
  {
   "cell_type": "code",
   "execution_count": 10,
   "id": "04871b6e",
   "metadata": {},
   "outputs": [
    {
     "data": {
      "image/png": "[encoded data removed]",
      "text/plain": [
       "<Figure size 1000x600 with 1 Axes>"
      ]
     },
     "metadata": {},
     "output_type": "display_data"
    }
   ],
   "source": [
    "plt.style.use(\"seaborn\")\n",
    "fig, ax = plt.subplots(figsize=(10, 6))\n",
    "ax.scatter(x=df[\"Hours\"], y=df[\"Scores\"], c=\"green\")\n",
    "ax.set(xlabel=\"No. of Hours Studied per Day\",\n",
    "       ylabel=\"Percentage Gained\",\n",
    "       xlim=(0, 10),\n",
    "       ylim=(0, 100),\n",
    "       xticks=range(0, 11),\n",
    "       yticks=(range(0, 110, 10)))\n",
    "ax.yaxis.get_major_ticks()[0].label1.set_visible(False)\n",
    "fig.suptitle(t=\"Scatter Plot\",\n",
    "             c=\"orange\",\n",
    "             fontsize=22,\n",
    "             fontweight=\"bold\");"
   ]
  },
  {
   "cell_type": "markdown",
   "id": "6df5d450",
   "metadata": {},
   "source": [
    "`X` and `y` are directly proportional to each other as with the increase in X, y increases and vice-versa"
   ]
  },
  {
   "cell_type": "markdown",
   "id": "36362a75",
   "metadata": {},
   "source": [
    "# `STEP-4:` Data Spliting  & Model Fitting\n",
    "\n",
    "For model fitting, the shape of X features must be of `(M, N) where N >= 1` whereas y i.e target feature of `(M,)`."
   ]
  },
  {
   "cell_type": "code",
   "execution_count": 11,
   "id": "5e6bc0fc",
   "metadata": {},
   "outputs": [],
   "source": [
    "from sklearn.model_selection import train_test_split\n",
    "from sklearn.ensemble import RandomForestRegressor\n",
    "from sklearn.linear_model import LinearRegression"
   ]
  },
  {
   "cell_type": "code",
   "execution_count": 12,
   "id": "18a0dd22",
   "metadata": {},
   "outputs": [],
   "source": [
    "X = df.drop(\"Scores\", axis=1)\n",
    "y = df[\"Scores\"]"
   ]
  },
  {
   "cell_type": "code",
   "execution_count": 13,
   "id": "12950b23",
   "metadata": {},
   "outputs": [
    {
     "data": {
      "text/plain": [
       "(25, 1)"
      ]
     },
     "execution_count": 13,
     "metadata": {},
     "output_type": "execute_result"
    }
   ],
   "source": [
    "X.shape"
   ]
  },
  {
   "cell_type": "code",
   "execution_count": 14,
   "id": "18f9a866",
   "metadata": {},
   "outputs": [
    {
     "data": {
      "text/plain": [
       "(25,)"
      ]
     },
     "execution_count": 14,
     "metadata": {},
     "output_type": "execute_result"
    }
   ],
   "source": [
    "y.shape"
   ]
  },
  {
   "cell_type": "code",
   "execution_count": 15,
   "id": "42efb24e",
   "metadata": {},
   "outputs": [],
   "source": [
    "X_train, X_test, y_train, y_test = train_test_split(X, y, test_size=0.2, random_state=0)"
   ]
  },
  {
   "cell_type": "markdown",
   "id": "106c74dc",
   "metadata": {},
   "source": [
    "### `Random Forest Regressor`"
   ]
  },
  {
   "cell_type": "code",
   "execution_count": 16,
   "id": "d565bc43",
   "metadata": {},
   "outputs": [
    {
     "name": "stdout",
     "output_type": "stream",
     "text": [
      "Model Accuracy on Training datasets: 98.9590%\n"
     ]
    }
   ],
   "source": [
    "rf = RandomForestRegressor(n_estimators=100) # By default, n_estimators=100\n",
    "rf.fit(X_train, y_train)\n",
    "rf_train_score = rf.score(X_train, y_train)\n",
    "print(f\"Model Accuracy on Training datasets: {rf_train_score*100:.4f}%\")"
   ]
  },
  {
   "cell_type": "markdown",
   "id": "b26c7b53",
   "metadata": {},
   "source": [
    "`n_estimators`:\n",
    "\n",
    "> This is the number of trees you want to build before taking the maximum voting or averages of predictions. Higher number of trees give you better performance but makes your code slower"
   ]
  },
  {
   "cell_type": "code",
   "execution_count": 17,
   "id": "48529183",
   "metadata": {},
   "outputs": [
    {
     "name": "stdout",
     "output_type": "stream",
     "text": [
      "Model Accuracy on Test datasets: 80.9207%\n"
     ]
    }
   ],
   "source": [
    "rf_test_score = rf.score(X_test, y_test)\n",
    "print(f\"Model Accuracy on Test datasets: {rf_test_score*100:.4f}%\")"
   ]
  },
  {
   "cell_type": "markdown",
   "id": "bc43af03",
   "metadata": {},
   "source": [
    "### `Linear Regression`"
   ]
  },
  {
   "cell_type": "code",
   "execution_count": 18,
   "id": "ae307ed2",
   "metadata": {},
   "outputs": [
    {
     "name": "stdout",
     "output_type": "stream",
     "text": [
      "Model Accuracy on Training datasets: 95.1551%\n"
     ]
    }
   ],
   "source": [
    "lr = LinearRegression()\n",
    "lr.fit(X_train, y_train)\n",
    "lr_train_score = lr.score(X_train, y_train)\n",
    "print(f\"Model Accuracy on Training datasets: {lr_train_score*100:.4f}%\")"
   ]
  },
  {
   "cell_type": "code",
   "execution_count": 19,
   "id": "d135f655",
   "metadata": {},
   "outputs": [
    {
     "name": "stdout",
     "output_type": "stream",
     "text": [
      "Model Accuracy on Test datasets: 80.9207%\n"
     ]
    }
   ],
   "source": [
    "lr_test_score = lr.score(X_test, y_test)\n",
    "print(f\"Model Accuracy on Test datasets: {rf_test_score*100:.4f}%\")"
   ]
  },
  {
   "cell_type": "markdown",
   "id": "35a4a35a",
   "metadata": {},
   "source": [
    "#### Comparing Actual vs Predicted of Two Models on Test Data."
   ]
  },
  {
   "cell_type": "code",
   "execution_count": 20,
   "id": "17919c28",
   "metadata": {},
   "outputs": [
    {
     "data": {
      "text/html": [
       "<div>\n",
       "<style scoped>\n",
       "    .dataframe tbody tr th:only-of-type {\n",
       "        vertical-align: middle;\n",
       "    }\n",
       "\n",
       "    .dataframe tbody tr th {\n",
       "        vertical-align: top;\n",
       "    }\n",
       "\n",
       "    .dataframe thead th {\n",
       "        text-align: right;\n",
       "    }\n",
       "</style>\n",
       "<table border=\"1\" class=\"dataframe\">\n",
       "  <thead>\n",
       "    <tr style=\"text-align: right;\">\n",
       "      <th></th>\n",
       "      <th>Hours</th>\n",
       "      <th>Actual</th>\n",
       "      <th>LR_Predicted</th>\n",
       "      <th>RF_Predicted</th>\n",
       "    </tr>\n",
       "  </thead>\n",
       "  <tbody>\n",
       "    <tr>\n",
       "      <th>5</th>\n",
       "      <td>1.5</td>\n",
       "      <td>20</td>\n",
       "      <td>16.884145</td>\n",
       "      <td>19.758333</td>\n",
       "    </tr>\n",
       "    <tr>\n",
       "      <th>2</th>\n",
       "      <td>3.2</td>\n",
       "      <td>27</td>\n",
       "      <td>33.732261</td>\n",
       "      <td>37.760000</td>\n",
       "    </tr>\n",
       "    <tr>\n",
       "      <th>19</th>\n",
       "      <td>7.4</td>\n",
       "      <td>69</td>\n",
       "      <td>75.357018</td>\n",
       "      <td>83.990000</td>\n",
       "    </tr>\n",
       "    <tr>\n",
       "      <th>16</th>\n",
       "      <td>2.5</td>\n",
       "      <td>30</td>\n",
       "      <td>26.794801</td>\n",
       "      <td>23.895833</td>\n",
       "    </tr>\n",
       "    <tr>\n",
       "      <th>11</th>\n",
       "      <td>5.9</td>\n",
       "      <td>62</td>\n",
       "      <td>60.491033</td>\n",
       "      <td>62.450000</td>\n",
       "    </tr>\n",
       "  </tbody>\n",
       "</table>\n",
       "</div>"
      ],
      "text/plain": [
       "    Hours  Actual  LR_Predicted  RF_Predicted\n",
       "5     1.5      20     16.884145     19.758333\n",
       "2     3.2      27     33.732261     37.760000\n",
       "19    7.4      69     75.357018     83.990000\n",
       "16    2.5      30     26.794801     23.895833\n",
       "11    5.9      62     60.491033     62.450000"
      ]
     },
     "execution_count": 20,
     "metadata": {},
     "output_type": "execute_result"
    }
   ],
   "source": [
    "lr_y_preds = lr.predict(X_test)\n",
    "rf_y_preds = rf.predict(X_test)\n",
    "vs_df = pd.DataFrame({'Hours': X_test['Hours'], 'Actual': y_test, 'LR_Predicted': lr_y_preds, 'RF_Predicted': rf_y_preds})  \n",
    "vs_df "
   ]
  },
  {
   "cell_type": "markdown",
   "id": "e4627054",
   "metadata": {},
   "source": [
    "### `Ploting Regression Line on Scatter Plot:`"
   ]
  },
  {
   "cell_type": "code",
   "execution_count": 21,
   "id": "fe367a63",
   "metadata": {},
   "outputs": [
    {
     "data": {
      "image/png": "[encoded data removed]",
      "text/plain": [
       "<Figure size 1000x600 with 1 Axes>"
      ]
     },
     "metadata": {},
     "output_type": "display_data"
    }
   ],
   "source": [
    "line = lr.coef_*X+lr.intercept_\n",
    "m = lr.coef_[0]\n",
    "c= lr.intercept_\n",
    "line_eqn = f\"{m:.2f}X + {c:.2f}\"\n",
    "\n",
    "plt.style.use(\"seaborn\")\n",
    "fig, ax = plt.subplots(figsize=(10, 6))\n",
    "ax.scatter(x=df[\"Hours\"], y=df[\"Scores\"], c=\"green\")\n",
    "ax.set(xlabel=\"No. of Hours Studied per Day\",\n",
    "       ylabel=\"Percentage Gained\",\n",
    "       xlim=(0, 10),\n",
    "       ylim=(0, 100),\n",
    "       xticks=range(0, 11),\n",
    "       yticks=(range(0, 110, 10)))\n",
    "ax.yaxis.get_major_ticks()[0].label1.set_visible(False)\n",
    "plt.plot(X, line, c=\"red\")\n",
    "fig.suptitle(t=f\"Scatter Plot with Line: {line_eqn}\",\n",
    "             c=\"orange\",\n",
    "             fontsize=22,\n",
    "             fontweight=\"bold\");\n"
   ]
  },
  {
   "cell_type": "markdown",
   "id": "e868ec05",
   "metadata": {},
   "source": [
    "\n",
    "### `Predicted vs Actual of RandomForestRegressor Model on Train Data.`\n",
    "\n",
    "Red : `Predicted`\n",
    "\n",
    "Green: `Actual`"
   ]
  },
  {
   "cell_type": "code",
   "execution_count": 22,
   "id": "936524d9",
   "metadata": {},
   "outputs": [
    {
     "data": {
      "image/png": "[encoded data removed]",
      "text/plain": [
       "<Figure size 1000x600 with 1 Axes>"
      ]
     },
     "metadata": {},
     "output_type": "display_data"
    }
   ],
   "source": [
    "plt.style.use(\"seaborn\")\n",
    "y_preds = rf.predict(X_train)\n",
    "\n",
    "fig, ax = plt.subplots(figsize=(10, 6))\n",
    "ax.scatter(x=X_train, y=y_train, c=\"green\")\n",
    "ax.set(xlabel=\"No. of Hours Studied per Day\",\n",
    "       ylabel=\"Percentage Gained\",\n",
    "       xlim=(0, 10),\n",
    "       ylim=(0, 100),\n",
    "       xticks=range(0, 11),\n",
    "       yticks=(range(0, 110, 10)))\n",
    "ax.yaxis.get_major_ticks()[0].label1.set_visible(False)\n",
    "ax.scatter(x=X_train, y=y_preds, c=\"red\")\n",
    "fig.suptitle(t=\"Scatter Plot\",\n",
    "             c=\"orange\",\n",
    "             fontsize=22,\n",
    "             fontweight=\"bold\");"
   ]
  },
  {
   "cell_type": "markdown",
   "id": "2d93f7b3",
   "metadata": {},
   "source": [
    "# `STEP-5:` Making Prediction on Unseen Data"
   ]
  },
  {
   "cell_type": "code",
   "execution_count": 23,
   "id": "8155f946",
   "metadata": {},
   "outputs": [
    {
     "name": "stdout",
     "output_type": "stream",
     "text": [
      "LR_Model Predicted % for 9.75 Hours: 93.6917%\n"
     ]
    }
   ],
   "source": [
    "hours = pd.DataFrame([9.25], columns=[\"Hours\"])\n",
    "lr_score_preds = lr.predict(hours)\n",
    "print(f\"LR_Model Predicted % for 9.75 Hours: {lr_score_preds[0]:.4f}%\")"
   ]
  },
  {
   "cell_type": "code",
   "execution_count": 24,
   "id": "bcf0b1ed",
   "metadata": {},
   "outputs": [
    {
     "name": "stdout",
     "output_type": "stream",
     "text": [
      "RF_Model Predicted % for 9.75 Hours: 89.7300%\n"
     ]
    }
   ],
   "source": [
    "rf_score_preds = rf.predict(hours)\n",
    "print(f\"RF_Model Predicted % for 9.75 Hours: {rf_score_preds[0]:.4f}%\")"
   ]
  },
  {
   "cell_type": "markdown",
   "id": "eb7cd05a",
   "metadata": {},
   "source": [
    "# `STEP-6:` Model Evaluation\n",
    "\n",
    "As this is Regression problems, we can't use `Classification Report, Confusion Matrix & Accuracy Score Metrics` for Model Evaluation. So, we are using \n",
    ">`Mean Absolute Error`"
   ]
  },
  {
   "cell_type": "code",
   "execution_count": 25,
   "id": "6c2e7793",
   "metadata": {},
   "outputs": [],
   "source": [
    "from sklearn.metrics import mean_absolute_error"
   ]
  },
  {
   "cell_type": "markdown",
   "id": "e5e9d51d",
   "metadata": {},
   "source": [
    "### `Mean Absolute Error:`"
   ]
  },
  {
   "cell_type": "code",
   "execution_count": 26,
   "id": "b2e9167c",
   "metadata": {
    "scrolled": true
   },
   "outputs": [
    {
     "name": "stdout",
     "output_type": "stream",
     "text": [
      "RF_Mean Absolute Error: 6.509166666666667\n",
      "\n",
      "LR_Mean Absolute Error: 4.183859899002982\n"
     ]
    }
   ],
   "source": [
    "rf_y_preds = rf.predict(X_test)\n",
    "lr_y_preds = lr.predict(X_test)\n",
    "print(f\"RF_Mean Absolute Error: {mean_absolute_error(y_test, rf_y_preds)}\\n\")\n",
    "print(f\"LR_Mean Absolute Error: {mean_absolute_error(y_test, lr_y_preds)}\")"
   ]
  },
  {
   "cell_type": "markdown",
   "id": "733ed1b5",
   "metadata": {},
   "source": [
    "## `NOTE:` Low Accuracy and High Error is because of less number of tuples in our datasets."
   ]
  },
  {
   "cell_type": "markdown",
   "id": "4e61d0bc",
   "metadata": {},
   "source": [
    " >>> # THANK YOU !!!"
   ]
  }
 ],
 "metadata": {
  "kernelspec": {
   "display_name": "Python 3 (ipykernel)",
   "language": "python",
   "name": "python3"
  },
  "language_info": {
   "codemirror_mode": {
    "name": "ipython",
    "version": 3
   },
   "file_extension": ".py",
   "mimetype": "text/x-python",
   "name": "python",
   "nbconvert_exporter": "python",
   "pygments_lexer": "ipython3",
   "version": "3.10.8"
  }
 },
 "nbformat": 4,
 "nbformat_minor": 5
}
